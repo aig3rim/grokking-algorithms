{
 "cells": [
  {
   "cell_type": "markdown",
   "id": "f1680404",
   "metadata": {},
   "source": [
    "# Notes for a book \"Grokking Algorithms\""
   ]
  },
  {
   "cell_type": "markdown",
   "id": "254acc0d",
   "metadata": {},
   "source": [
    "In this notebook, the algorithms explained in the book [\"Grokking Algorithms\"](https://www.manning.com/books/grokking-algorithms) are summarized with some comments."
   ]
  },
  {
   "cell_type": "markdown",
   "id": "95a31700",
   "metadata": {},
   "source": [
    "### Binary search"
   ]
  },
  {
   "cell_type": "markdown",
   "id": "51e30983",
   "metadata": {},
   "source": [
    "**Binary search** is an algorithm, which gets a sorted list at the input and returns a position of an element of interest. In general, **binary search** will take **log<sub>2</sub><sup>n</sup>** steps to run in the worst case."
   ]
  },
  {
   "cell_type": "code",
   "execution_count": 1,
   "id": "a80616c5",
   "metadata": {},
   "outputs": [],
   "source": [
    "def binary_search(lst, item):\n",
    "    low=0\n",
    "    high = len(lst) - 1\n",
    "    \n",
    "    while low <= high:\n",
    "        mid = (low + high) // 2  #div function\n",
    "        guess = lst[mid]\n",
    "        \n",
    "        if guess == item:\n",
    "            return mid\n",
    "        if guess > item:\n",
    "            high = mid - 1\n",
    "        else:\n",
    "            low = mid + 1\n",
    "    return None"
   ]
  },
  {
   "cell_type": "code",
   "execution_count": 2,
   "id": "ef4c94ce",
   "metadata": {},
   "outputs": [],
   "source": [
    "sorted_list = list(range(0, 100, 10))"
   ]
  },
  {
   "cell_type": "code",
   "execution_count": 3,
   "id": "3b0f41f6",
   "metadata": {},
   "outputs": [
    {
     "data": {
      "text/plain": [
       "[0, 10, 20, 30, 40, 50, 60, 70, 80, 90]"
      ]
     },
     "execution_count": 3,
     "metadata": {},
     "output_type": "execute_result"
    }
   ],
   "source": [
    "sorted_list"
   ]
  },
  {
   "cell_type": "code",
   "execution_count": 4,
   "id": "eeb5a378",
   "metadata": {},
   "outputs": [
    {
     "name": "stdout",
     "output_type": "stream",
     "text": [
      "CPU times: user 5 µs, sys: 1 µs, total: 6 µs\n",
      "Wall time: 8.82 µs\n"
     ]
    }
   ],
   "source": [
    "%%time\n",
    "binary_search(sorted_list, 92)"
   ]
  },
  {
   "cell_type": "code",
   "execution_count": 5,
   "id": "ee960284",
   "metadata": {},
   "outputs": [
    {
     "name": "stdout",
     "output_type": "stream",
     "text": [
      "CPU times: user 7 µs, sys: 1 µs, total: 8 µs\n",
      "Wall time: 10 µs\n"
     ]
    },
    {
     "data": {
      "text/plain": [
       "2"
      ]
     },
     "execution_count": 5,
     "metadata": {},
     "output_type": "execute_result"
    }
   ],
   "source": [
    "%%time\n",
    "binary_search(sorted_list, 20)"
   ]
  },
  {
   "cell_type": "markdown",
   "id": "08fea0f8",
   "metadata": {},
   "source": [
    "### Selection sort"
   ]
  },
  {
   "cell_type": "markdown",
   "id": "cf763d04",
   "metadata": {},
   "source": [
    "**Selection sort** is a neat algorithm but it is not very fast. Selection sort will take **O(nˆ2)** to run in the worst case."
   ]
  },
  {
   "cell_type": "code",
   "execution_count": 6,
   "id": "ffbfb9eb",
   "metadata": {},
   "outputs": [],
   "source": [
    "def findSmallest(arr):\n",
    "    smallest = arr[0]\n",
    "    smallest_index=0\n",
    "    \n",
    "    for i in range(1, len(arr)):\n",
    "        if arr[i] < smallest:\n",
    "            smallest = arr[i]\n",
    "            smallest_index = i\n",
    "    return smallest_index"
   ]
  },
  {
   "cell_type": "code",
   "execution_count": 7,
   "id": "09e69ba3",
   "metadata": {},
   "outputs": [],
   "source": [
    "def selectionSort(arr):\n",
    "    newArr = []\n",
    "    for i in range(len(arr)):\n",
    "        smallest = findSmallest(arr)\n",
    "        newArr.append(arr.pop(smallest))\n",
    "    return newArr"
   ]
  },
  {
   "cell_type": "code",
   "execution_count": 8,
   "id": "73a3a91d",
   "metadata": {},
   "outputs": [],
   "source": [
    "arr1 = [10, 9, 8, 5, 3, 15, 0]\n",
    "arr2 = [1, 2, 3, 4, 5]\n",
    "arr3 = [5, 4, 3, 2, 1, 0]"
   ]
  },
  {
   "cell_type": "code",
   "execution_count": 9,
   "id": "f2b6a64b",
   "metadata": {},
   "outputs": [
    {
     "data": {
      "text/plain": [
       "[0, 3, 5, 8, 9, 10, 15]"
      ]
     },
     "execution_count": 9,
     "metadata": {},
     "output_type": "execute_result"
    }
   ],
   "source": [
    "selectionSort(arr1)"
   ]
  },
  {
   "cell_type": "code",
   "execution_count": 10,
   "id": "83a8cbf4",
   "metadata": {},
   "outputs": [
    {
     "data": {
      "text/plain": [
       "[1, 2, 3, 4, 5]"
      ]
     },
     "execution_count": 10,
     "metadata": {},
     "output_type": "execute_result"
    }
   ],
   "source": [
    "selectionSort(arr2)"
   ]
  },
  {
   "cell_type": "code",
   "execution_count": 11,
   "id": "e08644d8",
   "metadata": {},
   "outputs": [
    {
     "data": {
      "text/plain": [
       "[0, 1, 2, 3, 4, 5]"
      ]
     },
     "execution_count": 11,
     "metadata": {},
     "output_type": "execute_result"
    }
   ],
   "source": [
    "selectionSort(arr3)"
   ]
  },
  {
   "cell_type": "markdown",
   "id": "28d17621",
   "metadata": {},
   "source": [
    "### Recursion"
   ]
  },
  {
   "cell_type": "markdown",
   "id": "ccb3cef8",
   "metadata": {},
   "source": [
    "**Recursion** is when a function calls itself. Every recursive function has 2 cases: the base case and the recursive case."
   ]
  },
  {
   "cell_type": "code",
   "execution_count": 12,
   "id": "bb8141e7",
   "metadata": {},
   "outputs": [],
   "source": [
    "def fact(x):\n",
    "    if x == 1:\n",
    "        return 1\n",
    "    else:\n",
    "        return x * fact(x-1)"
   ]
  },
  {
   "cell_type": "code",
   "execution_count": 14,
   "id": "353c7149",
   "metadata": {},
   "outputs": [
    {
     "data": {
      "text/plain": [
       "120"
      ]
     },
     "execution_count": 14,
     "metadata": {},
     "output_type": "execute_result"
    }
   ],
   "source": [
    "fact(5)"
   ]
  },
  {
   "cell_type": "code",
   "execution_count": 16,
   "id": "e402283c",
   "metadata": {},
   "outputs": [
    {
     "data": {
      "text/plain": [
       "2"
      ]
     },
     "execution_count": 16,
     "metadata": {},
     "output_type": "execute_result"
    }
   ],
   "source": [
    "fact(2)"
   ]
  },
  {
   "cell_type": "code",
   "execution_count": 43,
   "id": "10c469ec",
   "metadata": {},
   "outputs": [],
   "source": [
    "def fact_2(x):\n",
    "    if x > 0:\n",
    "        if x == 1:\n",
    "            return 1\n",
    "        else:\n",
    "            return x * fact_2(x-1)\n",
    "    else:\n",
    "        print(\"--- Plese input positive number. ---\")"
   ]
  },
  {
   "cell_type": "code",
   "execution_count": 44,
   "id": "e0f83305",
   "metadata": {},
   "outputs": [
    {
     "name": "stdout",
     "output_type": "stream",
     "text": [
      "--- Plese input positive number. ---\n",
      "CPU times: user 234 µs, sys: 106 µs, total: 340 µs\n",
      "Wall time: 286 µs\n"
     ]
    }
   ],
   "source": [
    "%%time\n",
    "fact_2(-3)"
   ]
  },
  {
   "cell_type": "code",
   "execution_count": 45,
   "id": "1454c969",
   "metadata": {},
   "outputs": [
    {
     "name": "stdout",
     "output_type": "stream",
     "text": [
      "--- Plese input positive number. ---\n",
      "CPU times: user 143 µs, sys: 122 µs, total: 265 µs\n",
      "Wall time: 175 µs\n"
     ]
    }
   ],
   "source": [
    "%%time\n",
    "fact_2(0)"
   ]
  },
  {
   "cell_type": "code",
   "execution_count": 46,
   "id": "d197db7c",
   "metadata": {},
   "outputs": [
    {
     "name": "stdout",
     "output_type": "stream",
     "text": [
      "CPU times: user 8 µs, sys: 1e+03 ns, total: 9 µs\n",
      "Wall time: 12.9 µs\n"
     ]
    },
    {
     "data": {
      "text/plain": [
       "3628800"
      ]
     },
     "execution_count": 46,
     "metadata": {},
     "output_type": "execute_result"
    }
   ],
   "source": [
    "%%time\n",
    "fact_2(10)"
   ]
  },
  {
   "cell_type": "code",
   "execution_count": 47,
   "id": "7384882f",
   "metadata": {},
   "outputs": [
    {
     "name": "stdout",
     "output_type": "stream",
     "text": [
      "CPU times: user 3 µs, sys: 1 µs, total: 4 µs\n",
      "Wall time: 8.11 µs\n"
     ]
    },
    {
     "data": {
      "text/plain": [
       "93326215443944152681699238856266700490715968264381621468592963895217599993229915608941463976156518286253697920827223758251185210916864000000000000000000000000"
      ]
     },
     "execution_count": 47,
     "metadata": {},
     "output_type": "execute_result"
    }
   ],
   "source": [
    "%time\n",
    "fact_2(100)"
   ]
  },
  {
   "cell_type": "markdown",
   "id": "1659f6be",
   "metadata": {},
   "source": [
    "### Divide & Coquer (D&C)"
   ]
  },
  {
   "cell_type": "markdown",
   "id": "6d3c3363",
   "metadata": {},
   "source": [
    "* Recursive technique for solving problems\n",
    "* Procedure:\n",
    "    * Figure out a simple case as the base\n",
    "    * Figure out how to reduce your problems and get to the base case"
   ]
  },
  {
   "cell_type": "code",
   "execution_count": 50,
   "id": "4403c40f",
   "metadata": {},
   "outputs": [],
   "source": [
    "# D&C example for a sum function for a list\n",
    "def sum_funct(lst):\n",
    "    if lst == []:\n",
    "        return 0\n",
    "    return lst[0] + sum_funct(lst[1:])"
   ]
  },
  {
   "cell_type": "code",
   "execution_count": 51,
   "id": "938c38be",
   "metadata": {},
   "outputs": [
    {
     "data": {
      "text/plain": [
       "6"
      ]
     },
     "execution_count": 51,
     "metadata": {},
     "output_type": "execute_result"
    }
   ],
   "source": [
    "sum_funct([1, 2, 3])"
   ]
  },
  {
   "cell_type": "markdown",
   "id": "37612d44",
   "metadata": {},
   "source": [
    "### Quicksort"
   ]
  },
  {
   "cell_type": "markdown",
   "id": "0e6738c8",
   "metadata": {},
   "source": [
    "Procedure for quicksort:\n",
    "1. Pick a pivot\n",
    "2. Partition the array into 2 sub-arrays: elements less than the pivot and elements greater than the pivot\n",
    "3. Call quicksort recursively on the two sub-arrays.\n",
    "\n",
    "- Average case - O(nlogn)\n",
    "- The worst case - O(nˆ2) (depending on how we choose pivot)"
   ]
  },
  {
   "cell_type": "code",
   "execution_count": 52,
   "id": "7063e56c",
   "metadata": {},
   "outputs": [],
   "source": [
    "def quicksort(array):\n",
    "    if len(array) < 2:\n",
    "        return array\n",
    "    else:\n",
    "        pivot = array[0]\n",
    "        less = [i for i in array[1:] if i <= pivot]\n",
    "        greater = [i for i in array[1:] if i > pivot]\n",
    "    return quicksort(less) + [pivot] + quicksort(greater)"
   ]
  },
  {
   "cell_type": "code",
   "execution_count": 53,
   "id": "df849c97",
   "metadata": {},
   "outputs": [
    {
     "data": {
      "text/plain": [
       "[2, 3, 5, 10]"
      ]
     },
     "execution_count": 53,
     "metadata": {},
     "output_type": "execute_result"
    }
   ],
   "source": [
    "quicksort([10, 5, 2, 3])"
   ]
  },
  {
   "cell_type": "code",
   "execution_count": 54,
   "id": "a0adebc4",
   "metadata": {},
   "outputs": [
    {
     "data": {
      "text/plain": [
       "[0, 4, 5, 6, 8, 12, 15, 15, 111]"
      ]
     },
     "execution_count": 54,
     "metadata": {},
     "output_type": "execute_result"
    }
   ],
   "source": [
    "quicksort([111, 4, 8, 0, 15, 15, 6, 12, 5])"
   ]
  },
  {
   "cell_type": "code",
   "execution_count": 55,
   "id": "0bb1d2ea",
   "metadata": {},
   "outputs": [
    {
     "data": {
      "text/plain": [
       "[]"
      ]
     },
     "execution_count": 55,
     "metadata": {},
     "output_type": "execute_result"
    }
   ],
   "source": [
    "quicksort([])"
   ]
  },
  {
   "cell_type": "markdown",
   "id": "b1834921",
   "metadata": {},
   "source": [
    "### Breadth-first search"
   ]
  },
  {
   "cell_type": "markdown",
   "id": "08c32032",
   "metadata": {},
   "source": [
    "* **Breadth-first search** allows to find the shirtest distance between 2 things.\n",
    "* 2 questions the **breadth-first search** can answer:\n",
    "    1. Is there a path from node A to node B?\n",
    "    2. What is the shortest path from node A to node B?\n",
    "    \n",
    "* **Graphs** are a way to model how different thinbgs are connected to one another. Graphs are made up of nodes and edges.\n",
    "\n",
    "* Queause are FIFO\n",
    "* Stacks are LIFO"
   ]
  },
  {
   "cell_type": "code",
   "execution_count": 56,
   "id": "4edc6c73",
   "metadata": {},
   "outputs": [],
   "source": [
    "graph = {}\n",
    "graph[\"you\"] = [\"alice\", \"bob\", \"claire\"]\n",
    "graph[\"bob\"] = [\"anuj\", \"peggy\"]\n",
    "graph[\"alice\"] = [\"peggy\"]\n",
    "graph[\"claire\"] = [\"thom\", \"johny\"]\n",
    "graph[\"anuj\"] = []\n",
    "graph[\"peggy\"] = []\n",
    "graph[\"thom\"] = []\n",
    "graph[\"johny\"] = []"
   ]
  },
  {
   "cell_type": "code",
   "execution_count": 57,
   "id": "72c277ee",
   "metadata": {},
   "outputs": [],
   "source": [
    "from collections import deque"
   ]
  },
  {
   "cell_type": "code",
   "execution_count": 58,
   "id": "fa05f009",
   "metadata": {},
   "outputs": [],
   "source": [
    "def person_is_seller(name):\n",
    "    return name[-1] == 'm'"
   ]
  },
  {
   "cell_type": "code",
   "execution_count": 59,
   "id": "ac9f750e",
   "metadata": {},
   "outputs": [],
   "source": [
    "def search(name):\n",
    "    search_queue = deque()\n",
    "    search_queue += graph[name]\n",
    "    searched = []\n",
    "    \n",
    "    while search_queue:\n",
    "        person = search_queue.popleft()\n",
    "        if not person in searched:\n",
    "            if person_is_seller(person):\n",
    "                print(person + \" is am mango seller!\")\n",
    "                return True\n",
    "            else:\n",
    "                search_queue += graph[person]\n",
    "                searched.append(person)\n",
    "    return False"
   ]
  },
  {
   "cell_type": "code",
   "execution_count": 61,
   "id": "4b337051",
   "metadata": {},
   "outputs": [
    {
     "name": "stdout",
     "output_type": "stream",
     "text": [
      "thom is am mango seller!\n"
     ]
    },
    {
     "data": {
      "text/plain": [
       "True"
      ]
     },
     "execution_count": 61,
     "metadata": {},
     "output_type": "execute_result"
    }
   ],
   "source": [
    "search(\"you\")"
   ]
  },
  {
   "cell_type": "code",
   "execution_count": 62,
   "id": "4594e0e8",
   "metadata": {},
   "outputs": [
    {
     "data": {
      "text/plain": [
       "False"
      ]
     },
     "execution_count": 62,
     "metadata": {},
     "output_type": "execute_result"
    }
   ],
   "source": [
    "search(\"peggy\")"
   ]
  },
  {
   "cell_type": "code",
   "execution_count": 63,
   "id": "7303b0a1",
   "metadata": {},
   "outputs": [
    {
     "data": {
      "text/plain": [
       "False"
      ]
     },
     "execution_count": 63,
     "metadata": {},
     "output_type": "execute_result"
    }
   ],
   "source": [
    "search(\"bob\")"
   ]
  },
  {
   "cell_type": "code",
   "execution_count": 64,
   "id": "a28a0a1d",
   "metadata": {},
   "outputs": [
    {
     "name": "stdout",
     "output_type": "stream",
     "text": [
      "thom is am mango seller!\n"
     ]
    },
    {
     "data": {
      "text/plain": [
       "True"
      ]
     },
     "execution_count": 64,
     "metadata": {},
     "output_type": "execute_result"
    }
   ],
   "source": [
    "search(\"claire\")"
   ]
  },
  {
   "cell_type": "code",
   "execution_count": null,
   "id": "4e3d97ed",
   "metadata": {},
   "outputs": [],
   "source": []
  },
  {
   "cell_type": "code",
   "execution_count": null,
   "id": "bb428cde",
   "metadata": {},
   "outputs": [],
   "source": []
  },
  {
   "cell_type": "code",
   "execution_count": null,
   "id": "49d51cb4",
   "metadata": {},
   "outputs": [],
   "source": []
  },
  {
   "cell_type": "code",
   "execution_count": null,
   "id": "15901d3f",
   "metadata": {},
   "outputs": [],
   "source": []
  },
  {
   "cell_type": "code",
   "execution_count": null,
   "id": "cd39ce5f",
   "metadata": {},
   "outputs": [],
   "source": []
  },
  {
   "cell_type": "code",
   "execution_count": null,
   "id": "26726f87",
   "metadata": {},
   "outputs": [],
   "source": []
  },
  {
   "cell_type": "code",
   "execution_count": null,
   "id": "34dd5442",
   "metadata": {},
   "outputs": [],
   "source": []
  },
  {
   "cell_type": "code",
   "execution_count": null,
   "id": "5790db38",
   "metadata": {},
   "outputs": [],
   "source": []
  },
  {
   "cell_type": "code",
   "execution_count": null,
   "id": "45c0befb",
   "metadata": {},
   "outputs": [],
   "source": []
  },
  {
   "cell_type": "code",
   "execution_count": null,
   "id": "338b0db4",
   "metadata": {},
   "outputs": [],
   "source": []
  },
  {
   "cell_type": "code",
   "execution_count": null,
   "id": "def18913",
   "metadata": {},
   "outputs": [],
   "source": []
  },
  {
   "cell_type": "code",
   "execution_count": null,
   "id": "63768ea8",
   "metadata": {},
   "outputs": [],
   "source": []
  },
  {
   "cell_type": "code",
   "execution_count": null,
   "id": "cfadde1b",
   "metadata": {},
   "outputs": [],
   "source": []
  }
 ],
 "metadata": {
  "kernelspec": {
   "display_name": "Python 3 (ipykernel)",
   "language": "python",
   "name": "python3"
  },
  "language_info": {
   "codemirror_mode": {
    "name": "ipython",
    "version": 3
   },
   "file_extension": ".py",
   "mimetype": "text/x-python",
   "name": "python",
   "nbconvert_exporter": "python",
   "pygments_lexer": "ipython3",
   "version": "3.7.16"
  },
  "toc": {
   "base_numbering": 1,
   "nav_menu": {},
   "number_sections": true,
   "sideBar": true,
   "skip_h1_title": false,
   "title_cell": "Table of Contents",
   "title_sidebar": "Contents",
   "toc_cell": false,
   "toc_position": {},
   "toc_section_display": true,
   "toc_window_display": false
  }
 },
 "nbformat": 4,
 "nbformat_minor": 5
}
