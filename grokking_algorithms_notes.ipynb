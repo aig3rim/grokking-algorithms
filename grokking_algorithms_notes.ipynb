{
 "cells": [
  {
   "cell_type": "markdown",
   "id": "f1680404",
   "metadata": {},
   "source": [
    "# Notes for a book \"Grokking Algorithms\""
   ]
  },
  {
   "cell_type": "markdown",
   "id": "254acc0d",
   "metadata": {},
   "source": [
    "In this notebook, the algorithms explained in the book [\"Grokking Algorithms\"](https://www.manning.com/books/grokking-algorithms) are summarized with some comments."
   ]
  },
  {
   "cell_type": "markdown",
   "id": "95a31700",
   "metadata": {},
   "source": [
    "### Binary search"
   ]
  },
  {
   "cell_type": "markdown",
   "id": "51e30983",
   "metadata": {},
   "source": [
    "**Binary search** is an algorithm, which gets a sorted list at the input and returns a position of an element of interest. In general, **binary search** will take **log<sub>2</sub><sup>n</sup>** steps to run in the worst case."
   ]
  },
  {
   "cell_type": "code",
   "execution_count": 25,
   "id": "a80616c5",
   "metadata": {},
   "outputs": [],
   "source": [
    "def binary_search(sorted_list, item):\n",
    "    low = 0\n",
    "    high = len(sorted_list) - 1\n",
    "    \n",
    "    while low <= high:\n",
    "        mid = int((low + high) / 2)\n",
    "        guess = sorted_list[mid]\n",
    "        if guess == item:\n",
    "            return mid\n",
    "        if guess > item:\n",
    "            high = mid - 1\n",
    "        else:\n",
    "            low = mid + 1\n",
    "    return None"
   ]
  },
  {
   "cell_type": "code",
   "execution_count": 47,
   "id": "ef4c94ce",
   "metadata": {},
   "outputs": [],
   "source": [
    "sorted_list = list(range(0, 100, 10))"
   ]
  },
  {
   "cell_type": "code",
   "execution_count": 48,
   "id": "3b0f41f6",
   "metadata": {},
   "outputs": [
    {
     "data": {
      "text/plain": [
       "[0, 10, 20, 30, 40, 50, 60, 70, 80, 90]"
      ]
     },
     "execution_count": 48,
     "metadata": {},
     "output_type": "execute_result"
    }
   ],
   "source": [
    "sorted_list"
   ]
  },
  {
   "cell_type": "code",
   "execution_count": 49,
   "id": "eeb5a378",
   "metadata": {},
   "outputs": [
    {
     "name": "stdout",
     "output_type": "stream",
     "text": [
      "CPU times: user 10 µs, sys: 1 µs, total: 11 µs\n",
      "Wall time: 13.1 µs\n"
     ]
    }
   ],
   "source": [
    "%%time\n",
    "binary_search(sorted_list, 92)"
   ]
  },
  {
   "cell_type": "code",
   "execution_count": 50,
   "id": "ee960284",
   "metadata": {},
   "outputs": [
    {
     "name": "stdout",
     "output_type": "stream",
     "text": [
      "CPU times: user 5 µs, sys: 0 ns, total: 5 µs\n",
      "Wall time: 9.06 µs\n"
     ]
    },
    {
     "data": {
      "text/plain": [
       "8"
      ]
     },
     "execution_count": 50,
     "metadata": {},
     "output_type": "execute_result"
    }
   ],
   "source": [
    "%%time\n",
    "binary_search(sorted_list, 80)"
   ]
  },
  {
   "cell_type": "code",
   "execution_count": null,
   "id": "5c6997cd",
   "metadata": {},
   "outputs": [],
   "source": []
  },
  {
   "cell_type": "code",
   "execution_count": null,
   "id": "d7307628",
   "metadata": {},
   "outputs": [],
   "source": []
  },
  {
   "cell_type": "code",
   "execution_count": null,
   "id": "586658f9",
   "metadata": {},
   "outputs": [],
   "source": []
  },
  {
   "cell_type": "code",
   "execution_count": null,
   "id": "def18913",
   "metadata": {},
   "outputs": [],
   "source": []
  },
  {
   "cell_type": "code",
   "execution_count": null,
   "id": "63768ea8",
   "metadata": {},
   "outputs": [],
   "source": []
  },
  {
   "cell_type": "code",
   "execution_count": null,
   "id": "cfadde1b",
   "metadata": {},
   "outputs": [],
   "source": []
  }
 ],
 "metadata": {
  "kernelspec": {
   "display_name": "Python 3 (ipykernel)",
   "language": "python",
   "name": "python3"
  },
  "language_info": {
   "codemirror_mode": {
    "name": "ipython",
    "version": 3
   },
   "file_extension": ".py",
   "mimetype": "text/x-python",
   "name": "python",
   "nbconvert_exporter": "python",
   "pygments_lexer": "ipython3",
   "version": "3.8.13"
  }
 },
 "nbformat": 4,
 "nbformat_minor": 5
}
