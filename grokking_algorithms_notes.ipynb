{
 "cells": [
  {
   "cell_type": "markdown",
   "id": "f1680404",
   "metadata": {},
   "source": [
    "# Notes for a book \"Grokking Algorithms\""
   ]
  },
  {
   "cell_type": "markdown",
   "id": "254acc0d",
   "metadata": {},
   "source": [
    "In this notebook, the algorithms explained in the book [\"Grokking Algorithms\"](https://www.manning.com/books/grokking-algorithms) are summarized with some comments."
   ]
  },
  {
   "cell_type": "markdown",
   "id": "95a31700",
   "metadata": {},
   "source": [
    "### Binary search"
   ]
  },
  {
   "cell_type": "markdown",
   "id": "51e30983",
   "metadata": {},
   "source": [
    "**Binary search** is an algorithm, which gets a sorted list at the input and returns a position of an element of interest. In general, **binary search** will take **log<sub>2</sub><sup>n</sup>** steps to run in the worst case."
   ]
  },
  {
   "cell_type": "code",
   "execution_count": 1,
   "id": "a80616c5",
   "metadata": {},
   "outputs": [],
   "source": [
    "def binary_search(lst, item):\n",
    "    low=0\n",
    "    high = len(lst) - 1\n",
    "    \n",
    "    while low <= high:\n",
    "        mid = (low + high) // 2  #div function\n",
    "        guess = lst[mid]\n",
    "        \n",
    "        if guess == item:\n",
    "            return mid\n",
    "        if guess > item:\n",
    "            high = mid - 1\n",
    "        else:\n",
    "            low = mid + 1\n",
    "    return None"
   ]
  },
  {
   "cell_type": "code",
   "execution_count": 2,
   "id": "ef4c94ce",
   "metadata": {},
   "outputs": [],
   "source": [
    "sorted_list = list(range(0, 100, 10))"
   ]
  },
  {
   "cell_type": "code",
   "execution_count": 3,
   "id": "3b0f41f6",
   "metadata": {},
   "outputs": [
    {
     "data": {
      "text/plain": [
       "[0, 10, 20, 30, 40, 50, 60, 70, 80, 90]"
      ]
     },
     "execution_count": 3,
     "metadata": {},
     "output_type": "execute_result"
    }
   ],
   "source": [
    "sorted_list"
   ]
  },
  {
   "cell_type": "code",
   "execution_count": 4,
   "id": "eeb5a378",
   "metadata": {},
   "outputs": [
    {
     "name": "stdout",
     "output_type": "stream",
     "text": [
      "CPU times: user 5 µs, sys: 1 µs, total: 6 µs\n",
      "Wall time: 8.82 µs\n"
     ]
    }
   ],
   "source": [
    "%%time\n",
    "binary_search(sorted_list, 92)"
   ]
  },
  {
   "cell_type": "code",
   "execution_count": 5,
   "id": "ee960284",
   "metadata": {},
   "outputs": [
    {
     "name": "stdout",
     "output_type": "stream",
     "text": [
      "CPU times: user 7 µs, sys: 1 µs, total: 8 µs\n",
      "Wall time: 10 µs\n"
     ]
    },
    {
     "data": {
      "text/plain": [
       "2"
      ]
     },
     "execution_count": 5,
     "metadata": {},
     "output_type": "execute_result"
    }
   ],
   "source": [
    "%%time\n",
    "binary_search(sorted_list, 20)"
   ]
  },
  {
   "cell_type": "markdown",
   "id": "08fea0f8",
   "metadata": {},
   "source": [
    "### Selection sort"
   ]
  },
  {
   "cell_type": "markdown",
   "id": "cf763d04",
   "metadata": {},
   "source": [
    "**Selection sort** is a neat algorithm but it is not very fast. Selection sort will take **O(nˆ2)** to run in the worst case."
   ]
  },
  {
   "cell_type": "code",
   "execution_count": 6,
   "id": "ffbfb9eb",
   "metadata": {},
   "outputs": [],
   "source": [
    "def findSmallest(arr):\n",
    "    smallest = arr[0]\n",
    "    smallest_index=0\n",
    "    \n",
    "    for i in range(1, len(arr)):\n",
    "        if arr[i] < smallest:\n",
    "            smallest = arr[i]\n",
    "            smallest_index = i\n",
    "    return smallest_index"
   ]
  },
  {
   "cell_type": "code",
   "execution_count": 7,
   "id": "09e69ba3",
   "metadata": {},
   "outputs": [],
   "source": [
    "def selectionSort(arr):\n",
    "    newArr = []\n",
    "    for i in range(len(arr)):\n",
    "        smallest = findSmallest(arr)\n",
    "        newArr.append(arr.pop(smallest))\n",
    "    return newArr"
   ]
  },
  {
   "cell_type": "code",
   "execution_count": 8,
   "id": "73a3a91d",
   "metadata": {},
   "outputs": [],
   "source": [
    "arr1 = [10, 9, 8, 5, 3, 15, 0]\n",
    "arr2 = [1, 2, 3, 4, 5]\n",
    "arr3 = [5, 4, 3, 2, 1, 0]"
   ]
  },
  {
   "cell_type": "code",
   "execution_count": 9,
   "id": "f2b6a64b",
   "metadata": {},
   "outputs": [
    {
     "data": {
      "text/plain": [
       "[0, 3, 5, 8, 9, 10, 15]"
      ]
     },
     "execution_count": 9,
     "metadata": {},
     "output_type": "execute_result"
    }
   ],
   "source": [
    "selectionSort(arr1)"
   ]
  },
  {
   "cell_type": "code",
   "execution_count": 10,
   "id": "83a8cbf4",
   "metadata": {},
   "outputs": [
    {
     "data": {
      "text/plain": [
       "[1, 2, 3, 4, 5]"
      ]
     },
     "execution_count": 10,
     "metadata": {},
     "output_type": "execute_result"
    }
   ],
   "source": [
    "selectionSort(arr2)"
   ]
  },
  {
   "cell_type": "code",
   "execution_count": 11,
   "id": "e08644d8",
   "metadata": {},
   "outputs": [
    {
     "data": {
      "text/plain": [
       "[0, 1, 2, 3, 4, 5]"
      ]
     },
     "execution_count": 11,
     "metadata": {},
     "output_type": "execute_result"
    }
   ],
   "source": [
    "selectionSort(arr3)"
   ]
  },
  {
   "cell_type": "markdown",
   "id": "418454d0",
   "metadata": {},
   "source": [
    "### Recursion"
   ]
  },
  {
   "cell_type": "markdown",
   "id": "807bcaf7",
   "metadata": {},
   "source": [
    "**Recursion** is when a function calls itself. Every recursive function has 2 cases: the base case and the recursive case."
   ]
  },
  {
   "cell_type": "code",
   "execution_count": 12,
   "id": "4d0d9954",
   "metadata": {},
   "outputs": [],
   "source": [
    "def fact(x):\n",
    "    if x == 1:\n",
    "        return 1\n",
    "    else:\n",
    "        return x * fact(x-1)"
   ]
  },
  {
   "cell_type": "code",
   "execution_count": 14,
   "id": "a2c66728",
   "metadata": {},
   "outputs": [
    {
     "data": {
      "text/plain": [
       "120"
      ]
     },
     "execution_count": 14,
     "metadata": {},
     "output_type": "execute_result"
    }
   ],
   "source": [
    "fact(5)"
   ]
  },
  {
   "cell_type": "code",
   "execution_count": 16,
   "id": "e402283c",
   "metadata": {},
   "outputs": [
    {
     "data": {
      "text/plain": [
       "2"
      ]
     },
     "execution_count": 16,
     "metadata": {},
     "output_type": "execute_result"
    }
   ],
   "source": [
    "fact(2)"
   ]
  },
  {
   "cell_type": "code",
   "execution_count": 43,
   "id": "10c469ec",
   "metadata": {},
   "outputs": [],
   "source": [
    "def fact_2(x):\n",
    "    if x > 0:\n",
    "        if x == 1:\n",
    "            return 1\n",
    "        else:\n",
    "            return x * fact_2(x-1)\n",
    "    else:\n",
    "        print(\"--- Plese input positive number. ---\")"
   ]
  },
  {
   "cell_type": "code",
   "execution_count": 44,
   "id": "de97fe7b",
   "metadata": {},
   "outputs": [
    {
     "name": "stdout",
     "output_type": "stream",
     "text": [
      "--- Plese input positive number. ---\n",
      "CPU times: user 234 µs, sys: 106 µs, total: 340 µs\n",
      "Wall time: 286 µs\n"
     ]
    }
   ],
   "source": [
    "%%time\n",
    "fact_2(-3)"
   ]
  },
  {
   "cell_type": "code",
   "execution_count": 45,
   "id": "1454c969",
   "metadata": {},
   "outputs": [
    {
     "name": "stdout",
     "output_type": "stream",
     "text": [
      "--- Plese input positive number. ---\n",
      "CPU times: user 143 µs, sys: 122 µs, total: 265 µs\n",
      "Wall time: 175 µs\n"
     ]
    }
   ],
   "source": [
    "%%time\n",
    "fact_2(0)"
   ]
  },
  {
   "cell_type": "code",
   "execution_count": 46,
   "id": "d197db7c",
   "metadata": {},
   "outputs": [
    {
     "name": "stdout",
     "output_type": "stream",
     "text": [
      "CPU times: user 8 µs, sys: 1e+03 ns, total: 9 µs\n",
      "Wall time: 12.9 µs\n"
     ]
    },
    {
     "data": {
      "text/plain": [
       "3628800"
      ]
     },
     "execution_count": 46,
     "metadata": {},
     "output_type": "execute_result"
    }
   ],
   "source": [
    "%%time\n",
    "fact_2(10)"
   ]
  },
  {
   "cell_type": "code",
   "execution_count": 47,
   "id": "7384882f",
   "metadata": {},
   "outputs": [
    {
     "name": "stdout",
     "output_type": "stream",
     "text": [
      "CPU times: user 3 µs, sys: 1 µs, total: 4 µs\n",
      "Wall time: 8.11 µs\n"
     ]
    },
    {
     "data": {
      "text/plain": [
       "93326215443944152681699238856266700490715968264381621468592963895217599993229915608941463976156518286253697920827223758251185210916864000000000000000000000000"
      ]
     },
     "execution_count": 47,
     "metadata": {},
     "output_type": "execute_result"
    }
   ],
   "source": [
    "%time\n",
    "fact_2(100)"
   ]
  },
  {
   "cell_type": "markdown",
   "id": "5b608c8c",
   "metadata": {},
   "source": [
    "### Quicksort"
   ]
  },
  {
   "cell_type": "code",
   "execution_count": null,
   "id": "ec27ee68",
   "metadata": {},
   "outputs": [],
   "source": []
  },
  {
   "cell_type": "code",
   "execution_count": null,
   "id": "be64500c",
   "metadata": {},
   "outputs": [],
   "source": []
  },
  {
   "cell_type": "code",
   "execution_count": null,
   "id": "3836f5b4",
   "metadata": {},
   "outputs": [],
   "source": []
  },
  {
   "cell_type": "code",
   "execution_count": null,
   "id": "940c5918",
   "metadata": {},
   "outputs": [],
   "source": []
  },
  {
   "cell_type": "code",
   "execution_count": null,
   "id": "c963f91c",
   "metadata": {},
   "outputs": [],
   "source": []
  },
  {
   "cell_type": "code",
   "execution_count": null,
   "id": "f9628389",
   "metadata": {},
   "outputs": [],
   "source": []
  },
  {
   "cell_type": "code",
   "execution_count": null,
   "id": "c98afb3f",
   "metadata": {},
   "outputs": [],
   "source": []
  },
  {
   "cell_type": "code",
   "execution_count": null,
   "id": "df98eebd",
   "metadata": {},
   "outputs": [],
   "source": []
  },
  {
   "cell_type": "code",
   "execution_count": null,
   "id": "5ae9afd7",
   "metadata": {},
   "outputs": [],
   "source": []
  },
  {
   "cell_type": "code",
   "execution_count": null,
   "id": "6c168e74",
   "metadata": {},
   "outputs": [],
   "source": []
  },
  {
   "cell_type": "code",
   "execution_count": null,
   "id": "10f52a76",
   "metadata": {},
   "outputs": [],
   "source": []
  },
  {
   "cell_type": "code",
   "execution_count": null,
   "id": "def18913",
   "metadata": {},
   "outputs": [],
   "source": []
  },
  {
   "cell_type": "code",
   "execution_count": null,
   "id": "63768ea8",
   "metadata": {},
   "outputs": [],
   "source": []
  },
  {
   "cell_type": "code",
   "execution_count": null,
   "id": "cfadde1b",
   "metadata": {},
   "outputs": [],
   "source": []
  }
 ],
 "metadata": {
  "kernelspec": {
   "display_name": "Python 3 (ipykernel)",
   "language": "python",
   "name": "python3"
  },
  "language_info": {
   "codemirror_mode": {
    "name": "ipython",
    "version": 3
   },
   "file_extension": ".py",
   "mimetype": "text/x-python",
   "name": "python",
   "nbconvert_exporter": "python",
   "pygments_lexer": "ipython3",
   "version": "3.7.16"
  },
  "toc": {
   "base_numbering": 1,
   "nav_menu": {},
   "number_sections": true,
   "sideBar": true,
   "skip_h1_title": false,
   "title_cell": "Table of Contents",
   "title_sidebar": "Contents",
   "toc_cell": false,
   "toc_position": {},
   "toc_section_display": true,
   "toc_window_display": false
  }
 },
 "nbformat": 4,
 "nbformat_minor": 5
}
